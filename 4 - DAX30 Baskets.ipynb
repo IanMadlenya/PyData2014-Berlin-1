{
 "metadata": {
  "name": "",
  "signature": "sha256:db4a56d98d45313f8de4d037a4f45b5d3bed4ea56a14b7a937a3928d603c1f97"
 },
 "nbformat": 3,
 "nbformat_minor": 0,
 "worksheets": [
  {
   "cells": [
    {
     "cell_type": "code",
     "collapsed": false,
     "input": [],
     "language": "python",
     "metadata": {},
     "outputs": []
    },
    {
     "cell_type": "code",
     "collapsed": false,
     "input": [
      "from graph.algos import construct_pmfg"
     ],
     "language": "python",
     "metadata": {},
     "outputs": []
    },
    {
     "cell_type": "code",
     "collapsed": false,
     "input": [
      "def add_info_pmfg(g, key, prop_name, pds):\n",
      "    idx = pds.columns.tolist().index(prop_name)\n",
      "    new_attr = map( lambda r: (r[0], r[1][1][idx]), filter( lambda r: g.has_node(r[0]), enumerate(pds.iterrows())))\n",
      "    nx.set_node_attributes(pmfg, key, dict(new_attr))\n",
      "\n",
      "\n",
      "pmfg = construct_pmfg(df)\n",
      "graph_widget = widgetforcelayout.GraphWidget(height=600, width=800, link_distance=40, charge=-1000)\n",
      "\n",
      "    \n",
      "# ['Ticker symbol']\n",
      "add_info_pmfg(pmfg, 'label', 'Company', dax_info)\n",
      "add_info_pmfg(pmfg, 'group', 'Prime Standard industry group', dax_info)\n",
      "# pmfg.nodes(data=True)\n",
      "\n",
      "display(graph_widget)\n",
      "time.sleep(0.1)\n",
      "graph_widget.set_graph(pmfg)"
     ],
     "language": "python",
     "metadata": {},
     "outputs": []
    },
    {
     "cell_type": "code",
     "collapsed": false,
     "input": [
      "mean_measure = lambda g, f_m, **d: np.mean(f_m(g, **d).values())\n",
      "\n",
      "aggregated_centrality = lambda g: ( mean_measure( g, nx.algorithms.betweenness_centrality, weight='weight'), \n",
      "mean_measure( g, nx.algorithms.closeness_centrality, distance='weight'), \n",
      "mean_measure( g, nx.algorithms.eigenvector_centrality, weight='weight') )\n",
      "\n",
      "aggregated_centrality(pmfg)\n"
     ],
     "language": "python",
     "metadata": {},
     "outputs": []
    }
   ],
   "metadata": {}
  }
 ]
}